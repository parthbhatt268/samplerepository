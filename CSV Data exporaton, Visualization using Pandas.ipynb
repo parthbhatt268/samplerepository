{
 "cells": [
  {
   "cell_type": "code",
   "execution_count": 5,
   "metadata": {},
   "outputs": [
    {
     "name": "stdout",
     "output_type": "stream",
     "text": [
      "C:\\Users\\Student\\Desktop\n"
     ]
    }
   ],
   "source": [
    "import numpy as np \n",
    "import pandas as pd \n",
    "#import seaborn as sns \n",
    "import matplotlib.pyplot as plt \n",
    "  \n",
    "  \n",
    "from scipy.stats import trim_mean\n",
    "import os\n",
    "print(os.getcwd())\n",
    "#data = pd.read_csv(\"state.csv\") \n",
    "  \n"
   ]
  },
  {
   "cell_type": "code",
   "execution_count": 6,
   "metadata": {},
   "outputs": [
    {
     "name": "stdout",
     "output_type": "stream",
     "text": [
      "C:\\Users\\Student\\Desktop\n"
     ]
    },
    {
     "data": {
      "text/html": [
       "<div>\n",
       "<style scoped>\n",
       "    .dataframe tbody tr th:only-of-type {\n",
       "        vertical-align: middle;\n",
       "    }\n",
       "\n",
       "    .dataframe tbody tr th {\n",
       "        vertical-align: top;\n",
       "    }\n",
       "\n",
       "    .dataframe thead th {\n",
       "        text-align: right;\n",
       "    }\n",
       "</style>\n",
       "<table border=\"1\" class=\"dataframe\">\n",
       "  <thead>\n",
       "    <tr style=\"text-align: right;\">\n",
       "      <th></th>\n",
       "      <th>city</th>\n",
       "      <th>pop_2015</th>\n",
       "      <th>violent_crime</th>\n",
       "      <th>murder</th>\n",
       "      <th>murder_rate</th>\n",
       "    </tr>\n",
       "  </thead>\n",
       "  <tbody>\n",
       "    <tr>\n",
       "      <th>0</th>\n",
       "      <td>Chicago</td>\n",
       "      <td>2728695</td>\n",
       "      <td>24663</td>\n",
       "      <td>478</td>\n",
       "      <td>17.517531</td>\n",
       "    </tr>\n",
       "    <tr>\n",
       "      <th>1</th>\n",
       "      <td>New York</td>\n",
       "      <td>8550861</td>\n",
       "      <td>50088</td>\n",
       "      <td>352</td>\n",
       "      <td>4.116545</td>\n",
       "    </tr>\n",
       "    <tr>\n",
       "      <th>2</th>\n",
       "      <td>Baltimore</td>\n",
       "      <td>621252</td>\n",
       "      <td>9542</td>\n",
       "      <td>344</td>\n",
       "      <td>55.372055</td>\n",
       "    </tr>\n",
       "    <tr>\n",
       "      <th>3</th>\n",
       "      <td>Houston</td>\n",
       "      <td>2275221</td>\n",
       "      <td>21994</td>\n",
       "      <td>303</td>\n",
       "      <td>13.317388</td>\n",
       "    </tr>\n",
       "    <tr>\n",
       "      <th>4</th>\n",
       "      <td>Detroit</td>\n",
       "      <td>673225</td>\n",
       "      <td>11846</td>\n",
       "      <td>295</td>\n",
       "      <td>43.818931</td>\n",
       "    </tr>\n",
       "  </tbody>\n",
       "</table>\n",
       "</div>"
      ],
      "text/plain": [
       "        city  pop_2015  violent_crime  murder  murder_rate\n",
       "0    Chicago   2728695          24663     478    17.517531\n",
       "1   New York   8550861          50088     352     4.116545\n",
       "2  Baltimore    621252           9542     344    55.372055\n",
       "3    Houston   2275221          21994     303    13.317388\n",
       "4    Detroit    673225          11846     295    43.818931"
      ]
     },
     "execution_count": 6,
     "metadata": {},
     "output_type": "execute_result"
    }
   ],
   "source": [
    "os.chdir(r\"C:\\Users\\Student\\Desktop\")\n",
    "print(os.getcwd())\n",
    "data=pd.read_csv(\"states.csv\") \n",
    "data.head()"
   ]
  },
  {
   "cell_type": "code",
   "execution_count": 7,
   "metadata": {},
   "outputs": [
    {
     "data": {
      "text/plain": [
       "pandas.core.frame.DataFrame"
      ]
     },
     "execution_count": 7,
     "metadata": {},
     "output_type": "execute_result"
    }
   ],
   "source": [
    "type(data)"
   ]
  },
  {
   "cell_type": "markdown",
   "metadata": {},
   "source": [
    "print(os.listdir(os.getcwd()))"
   ]
  },
  {
   "cell_type": "code",
   "execution_count": 7,
   "metadata": {},
   "outputs": [
    {
     "ename": "FileNotFoundError",
     "evalue": "File b'states.csv.csv' does not exist",
     "output_type": "error",
     "traceback": [
      "\u001b[1;31m---------------------------------------------------------------------------\u001b[0m",
      "\u001b[1;31mFileNotFoundError\u001b[0m                         Traceback (most recent call last)",
      "\u001b[1;32m<ipython-input-7-ba15bccab404>\u001b[0m in \u001b[0;36m<module>\u001b[1;34m()\u001b[0m\n\u001b[1;32m----> 1\u001b[1;33m \u001b[0mdata\u001b[0m \u001b[1;33m=\u001b[0m \u001b[0mpd\u001b[0m\u001b[1;33m.\u001b[0m\u001b[0mread_csv\u001b[0m\u001b[1;33m(\u001b[0m\u001b[1;34m\"states.csv.csv\"\u001b[0m\u001b[1;33m)\u001b[0m\u001b[1;33m\u001b[0m\u001b[0m\n\u001b[0m",
      "\u001b[1;32m~\\Anaconda3\\lib\\site-packages\\pandas\\io\\parsers.py\u001b[0m in \u001b[0;36mparser_f\u001b[1;34m(filepath_or_buffer, sep, delimiter, header, names, index_col, usecols, squeeze, prefix, mangle_dupe_cols, dtype, engine, converters, true_values, false_values, skipinitialspace, skiprows, nrows, na_values, keep_default_na, na_filter, verbose, skip_blank_lines, parse_dates, infer_datetime_format, keep_date_col, date_parser, dayfirst, iterator, chunksize, compression, thousands, decimal, lineterminator, quotechar, quoting, escapechar, comment, encoding, dialect, tupleize_cols, error_bad_lines, warn_bad_lines, skipfooter, skip_footer, doublequote, delim_whitespace, as_recarray, compact_ints, use_unsigned, low_memory, buffer_lines, memory_map, float_precision)\u001b[0m\n\u001b[0;32m    707\u001b[0m                     skip_blank_lines=skip_blank_lines)\n\u001b[0;32m    708\u001b[0m \u001b[1;33m\u001b[0m\u001b[0m\n\u001b[1;32m--> 709\u001b[1;33m         \u001b[1;32mreturn\u001b[0m \u001b[0m_read\u001b[0m\u001b[1;33m(\u001b[0m\u001b[0mfilepath_or_buffer\u001b[0m\u001b[1;33m,\u001b[0m \u001b[0mkwds\u001b[0m\u001b[1;33m)\u001b[0m\u001b[1;33m\u001b[0m\u001b[0m\n\u001b[0m\u001b[0;32m    710\u001b[0m \u001b[1;33m\u001b[0m\u001b[0m\n\u001b[0;32m    711\u001b[0m     \u001b[0mparser_f\u001b[0m\u001b[1;33m.\u001b[0m\u001b[0m__name__\u001b[0m \u001b[1;33m=\u001b[0m \u001b[0mname\u001b[0m\u001b[1;33m\u001b[0m\u001b[0m\n",
      "\u001b[1;32m~\\Anaconda3\\lib\\site-packages\\pandas\\io\\parsers.py\u001b[0m in \u001b[0;36m_read\u001b[1;34m(filepath_or_buffer, kwds)\u001b[0m\n\u001b[0;32m    447\u001b[0m \u001b[1;33m\u001b[0m\u001b[0m\n\u001b[0;32m    448\u001b[0m     \u001b[1;31m# Create the parser.\u001b[0m\u001b[1;33m\u001b[0m\u001b[1;33m\u001b[0m\u001b[0m\n\u001b[1;32m--> 449\u001b[1;33m     \u001b[0mparser\u001b[0m \u001b[1;33m=\u001b[0m \u001b[0mTextFileReader\u001b[0m\u001b[1;33m(\u001b[0m\u001b[0mfilepath_or_buffer\u001b[0m\u001b[1;33m,\u001b[0m \u001b[1;33m**\u001b[0m\u001b[0mkwds\u001b[0m\u001b[1;33m)\u001b[0m\u001b[1;33m\u001b[0m\u001b[0m\n\u001b[0m\u001b[0;32m    450\u001b[0m \u001b[1;33m\u001b[0m\u001b[0m\n\u001b[0;32m    451\u001b[0m     \u001b[1;32mif\u001b[0m \u001b[0mchunksize\u001b[0m \u001b[1;32mor\u001b[0m \u001b[0miterator\u001b[0m\u001b[1;33m:\u001b[0m\u001b[1;33m\u001b[0m\u001b[0m\n",
      "\u001b[1;32m~\\Anaconda3\\lib\\site-packages\\pandas\\io\\parsers.py\u001b[0m in \u001b[0;36m__init__\u001b[1;34m(self, f, engine, **kwds)\u001b[0m\n\u001b[0;32m    816\u001b[0m             \u001b[0mself\u001b[0m\u001b[1;33m.\u001b[0m\u001b[0moptions\u001b[0m\u001b[1;33m[\u001b[0m\u001b[1;34m'has_index_names'\u001b[0m\u001b[1;33m]\u001b[0m \u001b[1;33m=\u001b[0m \u001b[0mkwds\u001b[0m\u001b[1;33m[\u001b[0m\u001b[1;34m'has_index_names'\u001b[0m\u001b[1;33m]\u001b[0m\u001b[1;33m\u001b[0m\u001b[0m\n\u001b[0;32m    817\u001b[0m \u001b[1;33m\u001b[0m\u001b[0m\n\u001b[1;32m--> 818\u001b[1;33m         \u001b[0mself\u001b[0m\u001b[1;33m.\u001b[0m\u001b[0m_make_engine\u001b[0m\u001b[1;33m(\u001b[0m\u001b[0mself\u001b[0m\u001b[1;33m.\u001b[0m\u001b[0mengine\u001b[0m\u001b[1;33m)\u001b[0m\u001b[1;33m\u001b[0m\u001b[0m\n\u001b[0m\u001b[0;32m    819\u001b[0m \u001b[1;33m\u001b[0m\u001b[0m\n\u001b[0;32m    820\u001b[0m     \u001b[1;32mdef\u001b[0m \u001b[0mclose\u001b[0m\u001b[1;33m(\u001b[0m\u001b[0mself\u001b[0m\u001b[1;33m)\u001b[0m\u001b[1;33m:\u001b[0m\u001b[1;33m\u001b[0m\u001b[0m\n",
      "\u001b[1;32m~\\Anaconda3\\lib\\site-packages\\pandas\\io\\parsers.py\u001b[0m in \u001b[0;36m_make_engine\u001b[1;34m(self, engine)\u001b[0m\n\u001b[0;32m   1047\u001b[0m     \u001b[1;32mdef\u001b[0m \u001b[0m_make_engine\u001b[0m\u001b[1;33m(\u001b[0m\u001b[0mself\u001b[0m\u001b[1;33m,\u001b[0m \u001b[0mengine\u001b[0m\u001b[1;33m=\u001b[0m\u001b[1;34m'c'\u001b[0m\u001b[1;33m)\u001b[0m\u001b[1;33m:\u001b[0m\u001b[1;33m\u001b[0m\u001b[0m\n\u001b[0;32m   1048\u001b[0m         \u001b[1;32mif\u001b[0m \u001b[0mengine\u001b[0m \u001b[1;33m==\u001b[0m \u001b[1;34m'c'\u001b[0m\u001b[1;33m:\u001b[0m\u001b[1;33m\u001b[0m\u001b[0m\n\u001b[1;32m-> 1049\u001b[1;33m             \u001b[0mself\u001b[0m\u001b[1;33m.\u001b[0m\u001b[0m_engine\u001b[0m \u001b[1;33m=\u001b[0m \u001b[0mCParserWrapper\u001b[0m\u001b[1;33m(\u001b[0m\u001b[0mself\u001b[0m\u001b[1;33m.\u001b[0m\u001b[0mf\u001b[0m\u001b[1;33m,\u001b[0m \u001b[1;33m**\u001b[0m\u001b[0mself\u001b[0m\u001b[1;33m.\u001b[0m\u001b[0moptions\u001b[0m\u001b[1;33m)\u001b[0m\u001b[1;33m\u001b[0m\u001b[0m\n\u001b[0m\u001b[0;32m   1050\u001b[0m         \u001b[1;32melse\u001b[0m\u001b[1;33m:\u001b[0m\u001b[1;33m\u001b[0m\u001b[0m\n\u001b[0;32m   1051\u001b[0m             \u001b[1;32mif\u001b[0m \u001b[0mengine\u001b[0m \u001b[1;33m==\u001b[0m \u001b[1;34m'python'\u001b[0m\u001b[1;33m:\u001b[0m\u001b[1;33m\u001b[0m\u001b[0m\n",
      "\u001b[1;32m~\\Anaconda3\\lib\\site-packages\\pandas\\io\\parsers.py\u001b[0m in \u001b[0;36m__init__\u001b[1;34m(self, src, **kwds)\u001b[0m\n\u001b[0;32m   1693\u001b[0m         \u001b[0mkwds\u001b[0m\u001b[1;33m[\u001b[0m\u001b[1;34m'allow_leading_cols'\u001b[0m\u001b[1;33m]\u001b[0m \u001b[1;33m=\u001b[0m \u001b[0mself\u001b[0m\u001b[1;33m.\u001b[0m\u001b[0mindex_col\u001b[0m \u001b[1;32mis\u001b[0m \u001b[1;32mnot\u001b[0m \u001b[1;32mFalse\u001b[0m\u001b[1;33m\u001b[0m\u001b[0m\n\u001b[0;32m   1694\u001b[0m \u001b[1;33m\u001b[0m\u001b[0m\n\u001b[1;32m-> 1695\u001b[1;33m         \u001b[0mself\u001b[0m\u001b[1;33m.\u001b[0m\u001b[0m_reader\u001b[0m \u001b[1;33m=\u001b[0m \u001b[0mparsers\u001b[0m\u001b[1;33m.\u001b[0m\u001b[0mTextReader\u001b[0m\u001b[1;33m(\u001b[0m\u001b[0msrc\u001b[0m\u001b[1;33m,\u001b[0m \u001b[1;33m**\u001b[0m\u001b[0mkwds\u001b[0m\u001b[1;33m)\u001b[0m\u001b[1;33m\u001b[0m\u001b[0m\n\u001b[0m\u001b[0;32m   1696\u001b[0m \u001b[1;33m\u001b[0m\u001b[0m\n\u001b[0;32m   1697\u001b[0m         \u001b[1;31m# XXX\u001b[0m\u001b[1;33m\u001b[0m\u001b[1;33m\u001b[0m\u001b[0m\n",
      "\u001b[1;32mpandas/_libs/parsers.pyx\u001b[0m in \u001b[0;36mpandas._libs.parsers.TextReader.__cinit__\u001b[1;34m()\u001b[0m\n",
      "\u001b[1;32mpandas/_libs/parsers.pyx\u001b[0m in \u001b[0;36mpandas._libs.parsers.TextReader._setup_parser_source\u001b[1;34m()\u001b[0m\n",
      "\u001b[1;31mFileNotFoundError\u001b[0m: File b'states.csv.csv' does not exist"
     ]
    }
   ],
   "source": [
    "data = pd.read_csv(\"states.csv.csv\") "
   ]
  },
  {
   "cell_type": "code",
   "execution_count": 19,
   "metadata": {},
   "outputs": [
    {
     "name": "stdout",
     "output_type": "stream",
     "text": [
      "Type :  <class 'pandas.core.frame.DataFrame'> \n",
      "\n",
      "\n",
      "Head -- \n",
      "            city  pop_2015  violent_crime  murder  murder_rate\n",
      "0       Chicago   2728695          24663     478    17.517531\n",
      "1      New York   8550861          50088     352     4.116545\n",
      "2     Baltimore    621252           9542     344    55.372055\n",
      "3       Houston   2275221          21994     303    13.317388\n",
      "4       Detroit    673225          11846     295    43.818931\n",
      "5   Los Angeles   3962726          25156     282     7.116313\n",
      "6  Philadelphia   1567810          16132     280    17.859307\n",
      "7     St. Louis    317095           5762     188    59.288226\n",
      "8   New Orleans    393447           3736     164    41.682870\n",
      "9    Washington    672228           8084     162    24.098966\n",
      "\n",
      "\n",
      " Tail -- \n",
      "               city  pop_2015  violent_crime  murder  murder_rate\n",
      "58         Seattle    683700           4093      23     3.364049\n",
      "59     Bakersfield    373887           1810      22     5.884131\n",
      "60  Virginia Beach    452797            626      19     4.196141\n",
      "61         Anaheim    349471           1271      18     5.150642\n",
      "62  Corpus Christi    324326           2092      17     5.241640\n",
      "63         El Paso    686077           2515      17     2.477856\n",
      "64            Mesa    471034           1972      16     3.396782\n",
      "65        St. Paul    300721           2115      16     5.320546\n",
      "66        Honolulu    999307           2437      15     1.501040\n",
      "67       Lexington    314077           1044      15     4.775899\n"
     ]
    }
   ],
   "source": [
    "# Check the type of data \n",
    "print (\"Type : \", type(data), \"\\n\\n\") \n",
    "  \n",
    "# Printing Top 10 Records \n",
    "print (\"Head -- \\n\", data.head(10)) \n",
    "  \n",
    "# Printing last 10 Records  \n",
    "print (\"\\n\\n Tail -- \\n\", data.tail(10)) "
   ]
  },
  {
   "cell_type": "code",
   "execution_count": 20,
   "metadata": {},
   "outputs": [
    {
     "name": "stdout",
     "output_type": "stream",
     "text": [
      "        city  pop_2015  violent_crime  murder  murder_rate  \\\n",
      "0    Chicago   2728695          24663     478    17.517531   \n",
      "1   New York   8550861          50088     352     4.116545   \n",
      "2  Baltimore    621252           9542     344    55.372055   \n",
      "3    Houston   2275221          21994     303    13.317388   \n",
      "4    Detroit    673225          11846     295    43.818931   \n",
      "\n",
      "   Murders_per_thousands  \n",
      "0             175.175313  \n",
      "1              41.165445  \n",
      "2             553.720551  \n",
      "3             133.173876  \n",
      "4             438.189313  \n"
     ]
    }
   ],
   "source": [
    "# Adding a new column with derived data  \n",
    "  \n",
    "data['Murders_per_thousands'] = data['murder_rate']* 10\n",
    "  \n",
    "# Changed data \n",
    "print (data.head(5)) "
   ]
  },
  {
   "cell_type": "code",
   "execution_count": 21,
   "metadata": {},
   "outputs": [
    {
     "data": {
      "text/html": [
       "<div>\n",
       "<style scoped>\n",
       "    .dataframe tbody tr th:only-of-type {\n",
       "        vertical-align: middle;\n",
       "    }\n",
       "\n",
       "    .dataframe tbody tr th {\n",
       "        vertical-align: top;\n",
       "    }\n",
       "\n",
       "    .dataframe thead th {\n",
       "        text-align: right;\n",
       "    }\n",
       "</style>\n",
       "<table border=\"1\" class=\"dataframe\">\n",
       "  <thead>\n",
       "    <tr style=\"text-align: right;\">\n",
       "      <th></th>\n",
       "      <th>pop_2015</th>\n",
       "      <th>violent_crime</th>\n",
       "      <th>murder</th>\n",
       "      <th>murder_rate</th>\n",
       "      <th>Murders_per_thousands</th>\n",
       "    </tr>\n",
       "  </thead>\n",
       "  <tbody>\n",
       "    <tr>\n",
       "      <th>count</th>\n",
       "      <td>6.800000e+01</td>\n",
       "      <td>68.000000</td>\n",
       "      <td>68.000000</td>\n",
       "      <td>68.000000</td>\n",
       "      <td>68.000000</td>\n",
       "    </tr>\n",
       "    <tr>\n",
       "      <th>mean</th>\n",
       "      <td>8.271150e+05</td>\n",
       "      <td>6252.338235</td>\n",
       "      <td>87.058824</td>\n",
       "      <td>12.515587</td>\n",
       "      <td>125.155869</td>\n",
       "    </tr>\n",
       "    <tr>\n",
       "      <th>std</th>\n",
       "      <td>1.133671e+06</td>\n",
       "      <td>7439.568272</td>\n",
       "      <td>96.157191</td>\n",
       "      <td>11.188986</td>\n",
       "      <td>111.889856</td>\n",
       "    </tr>\n",
       "    <tr>\n",
       "      <th>min</th>\n",
       "      <td>2.503460e+05</td>\n",
       "      <td>626.000000</td>\n",
       "      <td>15.000000</td>\n",
       "      <td>1.501040</td>\n",
       "      <td>15.010402</td>\n",
       "    </tr>\n",
       "    <tr>\n",
       "      <th>25%</th>\n",
       "      <td>3.575455e+05</td>\n",
       "      <td>2410.000000</td>\n",
       "      <td>26.000000</td>\n",
       "      <td>6.072888</td>\n",
       "      <td>60.728883</td>\n",
       "    </tr>\n",
       "    <tr>\n",
       "      <th>50%</th>\n",
       "      <td>5.052770e+05</td>\n",
       "      <td>4107.500000</td>\n",
       "      <td>48.500000</td>\n",
       "      <td>9.087709</td>\n",
       "      <td>90.877093</td>\n",
       "    </tr>\n",
       "    <tr>\n",
       "      <th>75%</th>\n",
       "      <td>8.517275e+05</td>\n",
       "      <td>6709.250000</td>\n",
       "      <td>100.000000</td>\n",
       "      <td>15.932014</td>\n",
       "      <td>159.320140</td>\n",
       "    </tr>\n",
       "    <tr>\n",
       "      <th>max</th>\n",
       "      <td>8.550861e+06</td>\n",
       "      <td>50088.000000</td>\n",
       "      <td>478.000000</td>\n",
       "      <td>59.288226</td>\n",
       "      <td>592.882259</td>\n",
       "    </tr>\n",
       "  </tbody>\n",
       "</table>\n",
       "</div>"
      ],
      "text/plain": [
       "           pop_2015  violent_crime      murder  murder_rate  \\\n",
       "count  6.800000e+01      68.000000   68.000000    68.000000   \n",
       "mean   8.271150e+05    6252.338235   87.058824    12.515587   \n",
       "std    1.133671e+06    7439.568272   96.157191    11.188986   \n",
       "min    2.503460e+05     626.000000   15.000000     1.501040   \n",
       "25%    3.575455e+05    2410.000000   26.000000     6.072888   \n",
       "50%    5.052770e+05    4107.500000   48.500000     9.087709   \n",
       "75%    8.517275e+05    6709.250000  100.000000    15.932014   \n",
       "max    8.550861e+06   50088.000000  478.000000    59.288226   \n",
       "\n",
       "       Murders_per_thousands  \n",
       "count              68.000000  \n",
       "mean              125.155869  \n",
       "std               111.889856  \n",
       "min                15.010402  \n",
       "25%                60.728883  \n",
       "50%                90.877093  \n",
       "75%               159.320140  \n",
       "max               592.882259  "
      ]
     },
     "execution_count": 21,
     "metadata": {},
     "output_type": "execute_result"
    }
   ],
   "source": [
    "data.describe()\n"
   ]
  },
  {
   "cell_type": "code",
   "execution_count": 22,
   "metadata": {},
   "outputs": [
    {
     "name": "stdout",
     "output_type": "stream",
     "text": [
      "<class 'pandas.core.frame.DataFrame'>\n",
      "RangeIndex: 68 entries, 0 to 67\n",
      "Data columns (total 6 columns):\n",
      "city                     68 non-null object\n",
      "pop_2015                 68 non-null int64\n",
      "violent_crime            68 non-null int64\n",
      "murder                   68 non-null int64\n",
      "murder_rate              68 non-null float64\n",
      "Murders_per_thousands    68 non-null float64\n",
      "dtypes: float64(2), int64(3), object(1)\n",
      "memory usage: 3.3+ KB\n"
     ]
    }
   ],
   "source": [
    "data.info() "
   ]
  },
  {
   "cell_type": "code",
   "execution_count": 25,
   "metadata": {},
   "outputs": [
    {
     "data": {
      "text/plain": [
       "['city',\n",
       " 'pop_2015',\n",
       " 'violent_crime',\n",
       " 'murder',\n",
       " 'MurderRate',\n",
       " 'Murders_per_thousands']"
      ]
     },
     "execution_count": 25,
     "metadata": {},
     "output_type": "execute_result"
    }
   ],
   "source": [
    "# Rename column heading as it  \n",
    "# has '.' in it which will create \n",
    "# problems when dealing functions  \n",
    "  \n",
    "data.rename(columns ={'murder_rate': 'kon mara'}, inplace = True) \n",
    "  \n",
    "# Lets check the column headings \n",
    "list(data) "
   ]
  },
  {
   "cell_type": "code",
   "execution_count": 26,
   "metadata": {},
   "outputs": [
    {
     "name": "stdout",
     "output_type": "stream",
     "text": [
      "\n",
      "MurderRate Mean :  12.515586881573537\n"
     ]
    }
   ],
   "source": [
    "MurderRate_mean = data.MurderRate.mean() \n",
    "print (\"\\nMurderRate Mean : \", MurderRate_mean)"
   ]
  },
  {
   "cell_type": "code",
   "execution_count": 27,
   "metadata": {},
   "outputs": [
    {
     "name": "stdout",
     "output_type": "stream",
     "text": [
      "\n",
      "MurderRate trimmed mean:  10.487584721553572\n"
     ]
    }
   ],
   "source": [
    "# Mean after discarding top and  \n",
    "# bottom 10 % values eliminating outliers \n",
    "murder_TM = trim_mean(data.MurderRate, 0.1) \n",
    "print (\"\\nMurderRate trimmed mean: \", murder_TM) "
   ]
  },
  {
   "cell_type": "code",
   "execution_count": 28,
   "metadata": {},
   "outputs": [
    {
     "name": "stdout",
     "output_type": "stream",
     "text": [
      "Weighted MurderRate Mean:  10.525601231017951\n"
     ]
    }
   ],
   "source": [
    "# here murder rate is weighed as per  \n",
    "# the state population \n",
    "  \n",
    "murderRate_WM = np.average(data.MurderRate, weights = data.pop_2015) \n",
    "print (\"Weighted MurderRate Mean: \", murderRate_WM) "
   ]
  },
  {
   "cell_type": "code",
   "execution_count": 35,
   "metadata": {},
   "outputs": [
    {
     "name": "stdout",
     "output_type": "stream",
     "text": [
      "Population median :  505277.0\n",
      "\n",
      "MurderRate median :  9.0877093355\n"
     ]
    },
    {
     "ename": "NameError",
     "evalue": "name 'trial_mean' is not defined",
     "output_type": "error",
     "traceback": [
      "\u001b[1;31m---------------------------------------------------------------------------\u001b[0m",
      "\u001b[1;31mNameError\u001b[0m                                 Traceback (most recent call last)",
      "\u001b[1;32m<ipython-input-35-998609b51437>\u001b[0m in \u001b[0;36m<module>\u001b[1;34m()\u001b[0m\n\u001b[0;32m      6\u001b[0m \u001b[1;33m\u001b[0m\u001b[0m\n\u001b[0;32m      7\u001b[0m \u001b[0mtrial\u001b[0m \u001b[1;33m=\u001b[0m \u001b[0mdata\u001b[0m\u001b[1;33m.\u001b[0m\u001b[0mviolent_crime\u001b[0m\u001b[1;33m.\u001b[0m\u001b[0mmean\u001b[0m\u001b[1;33m(\u001b[0m\u001b[1;33m)\u001b[0m\u001b[1;33m\u001b[0m\u001b[0m\n\u001b[1;32m----> 8\u001b[1;33m \u001b[0mprint\u001b[0m\u001b[1;33m(\u001b[0m\u001b[1;34m\"\\n violent crime mean\"\u001b[0m\u001b[1;33m,\u001b[0m\u001b[0mtrial_mean\u001b[0m\u001b[1;33m)\u001b[0m\u001b[1;33m\u001b[0m\u001b[0m\n\u001b[0m",
      "\u001b[1;31mNameError\u001b[0m: name 'trial_mean' is not defined"
     ]
    }
   ],
   "source": [
    "Population_median = data.pop_2015.median() \n",
    "print (\"Population median : \", Population_median) \n",
    "  \n",
    "MurderRate_median = data.MurderRate.median() \n",
    "print (\"\\nMurderRate median : \", MurderRate_median) \n",
    "\n",
    "trial = data.violent_crime.mean()\n",
    "print(\"\\n violent crime mean\",trial_mean)\n"
   ]
  },
  {
   "cell_type": "code",
   "execution_count": 47,
   "metadata": {},
   "outputs": [
    {
     "data": {
      "text/plain": [
       "(array([ 0,  1,  2,  3,  4,  5,  6,  7,  8,  9, 10, 11, 12, 13, 14, 15, 16,\n",
       "        17, 18, 19, 20, 21, 22, 23, 24, 25, 26, 27, 28, 29, 30, 31, 32, 33,\n",
       "        34, 35, 36, 37, 38, 39, 40, 41, 42, 43, 44, 45, 46, 47, 48, 49, 50,\n",
       "        51, 52, 53, 54, 55, 56, 57, 58, 59, 60, 61, 62, 63, 64, 65, 66, 67]),\n",
       " <a list of 68 Text xticklabel objects>)"
      ]
     },
     "execution_count": 47,
     "metadata": {},
     "output_type": "execute_result"
    },
    {
     "data": {
      "image/png": "[encoded data removed]",
      "text/plain": [
       "<matplotlib.figure.Figure at 0xd4f2cc0>"
      ]
     },
     "metadata": {},
     "output_type": "display_data"
    }
   ],
   "source": [
    "# Plot Population In Millions \n",
    "\n",
    "import matplotlib.pyplot as plt \n",
    "import seaborn as sns\n",
    "fig, ax1 = plt.subplots() \n",
    "fig.set_size_inches(15,  9) \n",
    "  \n",
    "  \n",
    "ax1 = sns.barplot(x =\"city\", y =\"pop_2015\",  \n",
    "                  data = data.sort_values('pop_2015'),  \n",
    "                                        ) \n",
    "  \n",
    "ax1.set(xlabel ='States', ylabel ='Population In Millions') \n",
    "ax1.set_title('Population in Millions by State', size = 20) \n",
    "  \n",
    "plt.xticks(rotation =-90)"
   ]
  },
  {
   "cell_type": "code",
   "execution_count": 46,
   "metadata": {},
   "outputs": [
    {
     "name": "stdout",
     "output_type": "stream",
     "text": [
      "Population std :  1133671.2824435062\n",
      "\n",
      "MurderRate std :  11.188985580820292\n"
     ]
    }
   ],
   "source": [
    "Population_std = data.pop_2015.std() \n",
    "print (\"Population std : \", Population_std) \n",
    "  \n",
    "MurderRate_std = data.MurderRate.std() \n",
    "\n",
    "\n",
    "print (\"\\nMurderRate std : \", MurderRate_std) "
   ]
  },
  {
   "cell_type": "code",
   "execution_count": 39,
   "metadata": {},
   "outputs": [
    {
     "name": "stdout",
     "output_type": "stream",
     "text": [
      "Population var :  1285210576637.1038\n",
      "\n",
      "MurderRate var :  125.1933983278044\n"
     ]
    }
   ],
   "source": [
    "Population_var = data.pop_2015.var() \n",
    "print (\"Population var : \", Population_var) \n",
    "  \n",
    "MurderRate_var = data.MurderRate.var() \n",
    "print (\"\\nMurderRate var : \", MurderRate_var) "
   ]
  },
  {
   "cell_type": "code",
   "execution_count": 40,
   "metadata": {},
   "outputs": [
    {
     "name": "stdout",
     "output_type": "stream",
     "text": [
      "\n",
      "MurderRate IQR :  9.85912571775\n"
     ]
    }
   ],
   "source": [
    "\n",
    "  \n",
    "# Inter Quartile Range of Murder Rate \n",
    "MurderRate_IQR = data.MurderRate.describe()['75%'] -  data.MurderRate.describe()['25%'] \n",
    "  \n",
    "print (\"\\nMurderRate IQR : \", MurderRate_IQR)"
   ]
  },
  {
   "cell_type": "code",
   "execution_count": 66,
   "metadata": {},
   "outputs": [
    {
     "name": "stdout",
     "output_type": "stream",
     "text": [
      "\n",
      "MurderRate mad :  7.414688006086939\n"
     ]
    }
   ],
   "source": [
    "#Mean Absolute Deviation\n",
    "\n",
    "MurderRate_mad = data.MurderRate.mad() \n",
    "print (\"\\nMurderRate mad : \", MurderRate_mad) "
   ]
  },
  {
   "cell_type": "code",
   "execution_count": null,
   "metadata": {},
   "outputs": [],
   "source": []
  }
 ],
 "metadata": {
  "kernelspec": {
   "display_name": "Python 3",
   "language": "python",
   "name": "python3"
  },
  "language_info": {
   "codemirror_mode": {
    "name": "ipython",
    "version": 3
   },
   "file_extension": ".py",
   "mimetype": "text/x-python",
   "name": "python",
   "nbconvert_exporter": "python",
   "pygments_lexer": "ipython3",
   "version": "3.6.4"
  }
 },
 "nbformat": 4,
 "nbformat_minor": 2
}
